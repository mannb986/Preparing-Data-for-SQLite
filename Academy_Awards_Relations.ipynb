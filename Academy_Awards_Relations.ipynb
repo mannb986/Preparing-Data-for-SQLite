{
 "cells": [
  {
   "cell_type": "markdown",
   "metadata": {
    "collapsed": true
   },
   "source": [
    "## Intro to the Data"
   ]
  },
  {
   "cell_type": "code",
   "execution_count": 1,
   "metadata": {
    "collapsed": true
   },
   "outputs": [],
   "source": [
    "import sqlite3"
   ]
  },
  {
   "cell_type": "code",
   "execution_count": 2,
   "metadata": {
    "collapsed": true
   },
   "outputs": [],
   "source": [
    "conn = sqlite3.connect(\"nominations.db\")"
   ]
  },
  {
   "cell_type": "code",
   "execution_count": 3,
   "metadata": {
    "collapsed": false
   },
   "outputs": [],
   "source": [
    "schema_query = \"PRAGMA table_info(nominations);\"\n",
    "schema = conn.execute(schema_query).fetchall()"
   ]
  },
  {
   "cell_type": "code",
   "execution_count": 4,
   "metadata": {
    "collapsed": false
   },
   "outputs": [],
   "source": [
    "first_10_query = \"SELECT * FROM nominations LIMIT 10;\"\n",
    "first_ten = conn.execute(first_10_query).fetchall()"
   ]
  },
  {
   "cell_type": "code",
   "execution_count": 5,
   "metadata": {
    "collapsed": false
   },
   "outputs": [
    {
     "name": "stdout",
     "output_type": "stream",
     "text": [
      "(0, 'Year', 'INTEGER', 0, None, 0)\n",
      "(1, 'Category', 'TEXT', 0, None, 0)\n",
      "(2, 'Nominee', 'TEXT', 0, None, 0)\n",
      "(3, 'Won', 'INTEGER', 0, None, 0)\n",
      "(4, 'Movie', 'TEXT', 0, None, 0)\n",
      "(5, 'Character', 'TEXT', 0, None, 0)\n"
     ]
    }
   ],
   "source": [
    "for row in schema:\n",
    "    print(row)"
   ]
  },
  {
   "cell_type": "code",
   "execution_count": 6,
   "metadata": {
    "collapsed": false
   },
   "outputs": [
    {
     "name": "stdout",
     "output_type": "stream",
     "text": [
      "(2010, 'Actor -- Leading Role', 'Javier Bardem', 0, 'Biutiful', 'Uxbal')\n",
      "(2010, 'Actor -- Leading Role', 'Jeff Bridges', 0, 'True Grit', 'Rooster Cogburn')\n",
      "(2010, 'Actor -- Leading Role', 'Jesse Eisenberg', 0, 'The Social Network', 'Mark Zuckerberg')\n",
      "(2010, 'Actor -- Leading Role', 'Colin Firth', 1, \"The King's Speech\", 'King George VI')\n",
      "(2010, 'Actor -- Leading Role', 'James Franco', 0, '127 Hours', 'Aron Ralston')\n",
      "(2010, 'Actor -- Supporting Role', 'Christian Bale', 1, 'The Fighter', 'Dicky Eklund')\n",
      "(2010, 'Actor -- Supporting Role', 'John Hawkes', 0, \"Winter's Bone\", 'Teardrop')\n",
      "(2010, 'Actor -- Supporting Role', 'Jeremy Renner', 0, 'The Town', 'James Coughlin')\n",
      "(2010, 'Actor -- Supporting Role', 'Mark Ruffalo', 0, 'The Kids Are All Right', 'Paul')\n",
      "(2010, 'Actor -- Supporting Role', 'Geoffrey Rush', 0, \"The King's Speech\", 'Lionel Logue')\n"
     ]
    }
   ],
   "source": [
    "for row in first_ten:\n",
    "    print(row)"
   ]
  },
  {
   "cell_type": "markdown",
   "metadata": {},
   "source": [
    "## Creating The Ceremonies Table"
   ]
  },
  {
   "cell_type": "code",
   "execution_count": 7,
   "metadata": {
    "collapsed": false
   },
   "outputs": [
    {
     "ename": "OperationalError",
     "evalue": "table ceremonies already exists",
     "output_type": "error",
     "traceback": [
      "\u001b[1;31m\u001b[0m",
      "\u001b[1;31mOperationalError\u001b[0mTraceback (most recent call last)",
      "\u001b[1;32m<ipython-input-7-4a0153b7f356>\u001b[0m in \u001b[0;36m<module>\u001b[1;34m()\u001b[0m\n\u001b[0;32m      6\u001b[0m );\n\u001b[0;32m      7\u001b[0m '''\n\u001b[1;32m----> 8\u001b[1;33m \u001b[0mconn\u001b[0m\u001b[1;33m.\u001b[0m\u001b[0mexecute\u001b[0m\u001b[1;33m(\u001b[0m\u001b[0mcreate_query\u001b[0m\u001b[1;33m)\u001b[0m\u001b[1;33m\u001b[0m\u001b[0m\n\u001b[0m",
      "\u001b[1;31mOperationalError\u001b[0m: table ceremonies already exists"
     ]
    }
   ],
   "source": [
    "create_query = '''\n",
    "create table ceremonies(\n",
    "id integer primary key,\n",
    "Year integer,\n",
    "Host text\n",
    ");\n",
    "'''\n",
    "conn.execute(create_query)"
   ]
  },
  {
   "cell_type": "code",
   "execution_count": 8,
   "metadata": {
    "collapsed": true
   },
   "outputs": [],
   "source": [
    "year_hosts = [(2010, \"Steve Martin\"),\n",
    "              (2009, \"Hugh Jackman\"),\n",
    "              (2008, \"Jon Stewart\"),\n",
    "              (2007, \"Ellen DeGeneres\"),\n",
    "              (2006, \"Jon Stewart\"),\n",
    "              (2005, \"Chris Rock\"),\n",
    "              (2004, \"Billy Crystal\"),\n",
    "              (2003, \"Steve Martin\"),\n",
    "              (2002, \"Whoopi Goldberg\"),\n",
    "              (2001, \"Steve Martin\"),\n",
    "              (2000, \"Billy Crystal\")\n",
    "             ]"
   ]
  },
  {
   "cell_type": "code",
   "execution_count": 9,
   "metadata": {
    "collapsed": false
   },
   "outputs": [
    {
     "data": {
      "text/plain": [
       "<sqlite3.Cursor at 0x7fa7acf3b7a0>"
      ]
     },
     "execution_count": 9,
     "metadata": {},
     "output_type": "execute_result"
    }
   ],
   "source": [
    "insert_query = \"insert into ceremonies (Year, Host) Values (?,?);\"\n",
    "conn.executemany(insert_query, year_hosts)"
   ]
  },
  {
   "cell_type": "code",
   "execution_count": 10,
   "metadata": {
    "collapsed": false
   },
   "outputs": [
    {
     "name": "stdout",
     "output_type": "stream",
     "text": [
      "(1, 2010, 'Steve Martin')\n",
      "(2, 2009, 'Hugh Jackman')\n",
      "(3, 2008, 'Jon Stewart')\n",
      "(4, 2007, 'Ellen DeGeneres')\n",
      "(5, 2006, 'Jon Stewart')\n",
      "(6, 2005, 'Chris Rock')\n",
      "(7, 2004, 'Billy Crystal')\n",
      "(8, 2003, 'Steve Martin')\n",
      "(9, 2002, 'Whoopi Goldberg')\n",
      "(10, 2001, 'Steve Martin')\n"
     ]
    }
   ],
   "source": [
    "query_ceremonies = \"select * from ceremonies limit 10;\"\n",
    "first_10 = conn.execute(query_ceremonies).fetchall()\n",
    "for row in first_10:\n",
    "    print(row)"
   ]
  },
  {
   "cell_type": "code",
   "execution_count": 11,
   "metadata": {
    "collapsed": false
   },
   "outputs": [
    {
     "name": "stdout",
     "output_type": "stream",
     "text": [
      "(0, 'id', 'integer', 0, None, 1)\n",
      "(1, 'Year', 'integer', 0, None, 0)\n",
      "(2, 'Host', 'text', 0, None, 0)\n"
     ]
    }
   ],
   "source": [
    "pragma_query2 = \"pragma table_info(ceremonies);\"\n",
    "pragma2 = conn.execute(pragma_query2).fetchall()\n",
    "for row in pragma2:\n",
    "    print(row)"
   ]
  },
  {
   "cell_type": "markdown",
   "metadata": {},
   "source": [
    "## Foreign Key Constraints"
   ]
  },
  {
   "cell_type": "code",
   "execution_count": 12,
   "metadata": {
    "collapsed": false
   },
   "outputs": [
    {
     "data": {
      "text/plain": [
       "<sqlite3.Cursor at 0x7fa7ac6c1340>"
      ]
     },
     "execution_count": 12,
     "metadata": {},
     "output_type": "execute_result"
    }
   ],
   "source": [
    "fkeys_query = \"pragma foreign_keys = ON;\"\n",
    "conn.execute(fkeys_query)"
   ]
  },
  {
   "cell_type": "markdown",
   "metadata": {},
   "source": [
    "## Setting Up One-To-Many"
   ]
  },
  {
   "cell_type": "code",
   "execution_count": 21,
   "metadata": {
    "collapsed": true
   },
   "outputs": [],
   "source": [
    "nom_two_create_new1 = '''\n",
    "create table nominations_two_new1(\n",
    "id integer primary key,\n",
    "category text,\n",
    "nominee text,\n",
    "movie text,\n",
    "character, text,\n",
    "won integer,\n",
    "ceremony_id integer,\n",
    "foreign key (ceremony_id) references ceremonies(id));\n",
    "'''"
   ]
  },
  {
   "cell_type": "code",
   "execution_count": 23,
   "metadata": {
    "collapsed": false
   },
   "outputs": [
    {
     "data": {
      "text/plain": [
       "<sqlite3.Cursor at 0x7fa7ac6c13b0>"
      ]
     },
     "execution_count": 23,
     "metadata": {},
     "output_type": "execute_result"
    }
   ],
   "source": [
    "conn.execute(nom_two_create_new1)"
   ]
  },
  {
   "cell_type": "code",
   "execution_count": 24,
   "metadata": {
    "collapsed": false
   },
   "outputs": [
    {
     "data": {
      "text/plain": [
       "[(0, 'id', 'integer', 0, None, 1),\n",
       " (1, 'category', 'text', 0, None, 0),\n",
       " (2, 'nominee', 'text', 0, None, 0),\n",
       " (3, 'movie', 'text', 0, None, 0),\n",
       " (4, 'character', '', 0, None, 0),\n",
       " (5, 'text', '', 0, None, 0),\n",
       " (6, 'won', 'integer', 0, None, 0),\n",
       " (7, 'ceremony_id', 'integer', 0, None, 0)]"
      ]
     },
     "execution_count": 24,
     "metadata": {},
     "output_type": "execute_result"
    }
   ],
   "source": [
    "conn.execute(\"pragma table_info(nominations_two_new1)\").fetchall()"
   ]
  },
  {
   "cell_type": "code",
   "execution_count": 25,
   "metadata": {
    "collapsed": true
   },
   "outputs": [],
   "source": [
    "nom_query = '''\n",
    "select ceremonies.id as ceremony_id, nominations.category as category, \n",
    "nominations.nominee as nominee, nominations.movie as movie, \n",
    "nominations.character as character, nominations.won as won\n",
    "from nominations\n",
    "inner join ceremonies \n",
    "on nominations.year == ceremonies.year\n",
    ";\n",
    "'''"
   ]
  },
  {
   "cell_type": "code",
   "execution_count": 26,
   "metadata": {
    "collapsed": false
   },
   "outputs": [
    {
     "name": "stdout",
     "output_type": "stream",
     "text": [
      "(1, 'Actor -- Leading Role', 'Javier Bardem', 'Biutiful', 'Uxbal', 0)\n",
      "(12, 'Actor -- Leading Role', 'Javier Bardem', 'Biutiful', 'Uxbal', 0)\n",
      "(23, 'Actor -- Leading Role', 'Javier Bardem', 'Biutiful', 'Uxbal', 0)\n",
      "(1, 'Actor -- Leading Role', 'Jeff Bridges', 'True Grit', 'Rooster Cogburn', 0)\n",
      "(12, 'Actor -- Leading Role', 'Jeff Bridges', 'True Grit', 'Rooster Cogburn', 0)\n",
      "(23, 'Actor -- Leading Role', 'Jeff Bridges', 'True Grit', 'Rooster Cogburn', 0)\n",
      "(1, 'Actor -- Leading Role', 'Jesse Eisenberg', 'The Social Network', 'Mark Zuckerberg', 0)\n",
      "(12, 'Actor -- Leading Role', 'Jesse Eisenberg', 'The Social Network', 'Mark Zuckerberg', 0)\n",
      "(23, 'Actor -- Leading Role', 'Jesse Eisenberg', 'The Social Network', 'Mark Zuckerberg', 0)\n",
      "(1, 'Actor -- Leading Role', 'Colin Firth', \"The King's Speech\", 'King George VI', 1)\n",
      "(12, 'Actor -- Leading Role', 'Colin Firth', \"The King's Speech\", 'King George VI', 1)\n",
      "(23, 'Actor -- Leading Role', 'Colin Firth', \"The King's Speech\", 'King George VI', 1)\n",
      "(1, 'Actor -- Leading Role', 'James Franco', '127 Hours', 'Aron Ralston', 0)\n",
      "(12, 'Actor -- Leading Role', 'James Franco', '127 Hours', 'Aron Ralston', 0)\n",
      "(23, 'Actor -- Leading Role', 'James Franco', '127 Hours', 'Aron Ralston', 0)\n",
      "(1, 'Actor -- Supporting Role', 'Christian Bale', 'The Fighter', 'Dicky Eklund', 1)\n",
      "(12, 'Actor -- Supporting Role', 'Christian Bale', 'The Fighter', 'Dicky Eklund', 1)\n",
      "(23, 'Actor -- Supporting Role', 'Christian Bale', 'The Fighter', 'Dicky Eklund', 1)\n",
      "(1, 'Actor -- Supporting Role', 'John Hawkes', \"Winter's Bone\", 'Teardrop', 0)\n",
      "(12, 'Actor -- Supporting Role', 'John Hawkes', \"Winter's Bone\", 'Teardrop', 0)\n",
      "(23, 'Actor -- Supporting Role', 'John Hawkes', \"Winter's Bone\", 'Teardrop', 0)\n",
      "(1, 'Actor -- Supporting Role', 'Jeremy Renner', 'The Town', 'James Coughlin', 0)\n",
      "(12, 'Actor -- Supporting Role', 'Jeremy Renner', 'The Town', 'James Coughlin', 0)\n",
      "(23, 'Actor -- Supporting Role', 'Jeremy Renner', 'The Town', 'James Coughlin', 0)\n",
      "(1, 'Actor -- Supporting Role', 'Mark Ruffalo', 'The Kids Are All Right', 'Paul', 0)\n",
      "(12, 'Actor -- Supporting Role', 'Mark Ruffalo', 'The Kids Are All Right', 'Paul', 0)\n",
      "(23, 'Actor -- Supporting Role', 'Mark Ruffalo', 'The Kids Are All Right', 'Paul', 0)\n",
      "(1, 'Actor -- Supporting Role', 'Geoffrey Rush', \"The King's Speech\", 'Lionel Logue', 0)\n",
      "(12, 'Actor -- Supporting Role', 'Geoffrey Rush', \"The King's Speech\", 'Lionel Logue', 0)\n",
      "(23, 'Actor -- Supporting Role', 'Geoffrey Rush', \"The King's Speech\", 'Lionel Logue', 0)\n",
      "(1, 'Actress -- Leading Role', 'Annette Bening', 'The Kids Are All Right', 'Nic', 0)\n",
      "(12, 'Actress -- Leading Role', 'Annette Bening', 'The Kids Are All Right', 'Nic', 0)\n",
      "(23, 'Actress -- Leading Role', 'Annette Bening', 'The Kids Are All Right', 'Nic', 0)\n",
      "(1, 'Actress -- Leading Role', 'Nicole Kidman', 'Rabbit Hole', 'Becca', 0)\n",
      "(12, 'Actress -- Leading Role', 'Nicole Kidman', 'Rabbit Hole', 'Becca', 0)\n",
      "(23, 'Actress -- Leading Role', 'Nicole Kidman', 'Rabbit Hole', 'Becca', 0)\n",
      "(1, 'Actress -- Leading Role', 'Jennifer Lawrence', \"Winter's Bone\", 'Ree', 0)\n",
      "(12, 'Actress -- Leading Role', 'Jennifer Lawrence', \"Winter's Bone\", 'Ree', 0)\n",
      "(23, 'Actress -- Leading Role', 'Jennifer Lawrence', \"Winter's Bone\", 'Ree', 0)\n",
      "(1, 'Actress -- Leading Role', 'Natalie Portman', 'Black Swan', 'Nina Sayers/The Swan Queen', 1)\n",
      "(12, 'Actress -- Leading Role', 'Natalie Portman', 'Black Swan', 'Nina Sayers/The Swan Queen', 1)\n",
      "(23, 'Actress -- Leading Role', 'Natalie Portman', 'Black Swan', 'Nina Sayers/The Swan Queen', 1)\n",
      "(1, 'Actress -- Leading Role', 'Michelle Williams', 'Blue Valentine', 'Cindy', 0)\n",
      "(12, 'Actress -- Leading Role', 'Michelle Williams', 'Blue Valentine', 'Cindy', 0)\n",
      "(23, 'Actress -- Leading Role', 'Michelle Williams', 'Blue Valentine', 'Cindy', 0)\n",
      "(1, 'Actress -- Supporting Role', 'Amy Adams', 'The Fighter', 'Charlene Fleming', 0)\n",
      "(12, 'Actress -- Supporting Role', 'Amy Adams', 'The Fighter', 'Charlene Fleming', 0)\n",
      "(23, 'Actress -- Supporting Role', 'Amy Adams', 'The Fighter', 'Charlene Fleming', 0)\n",
      "(1, 'Actress -- Supporting Role', 'Helena Bonham Carter', \"The King's Speech\", 'Queen Elizabeth', 0)\n",
      "(12, 'Actress -- Supporting Role', 'Helena Bonham Carter', \"The King's Speech\", 'Queen Elizabeth', 0)\n",
      "(23, 'Actress -- Supporting Role', 'Helena Bonham Carter', \"The King's Speech\", 'Queen Elizabeth', 0)\n",
      "(1, 'Actress -- Supporting Role', 'Melissa Leo', 'The Fighter', 'Alice Ward', 1)\n",
      "(12, 'Actress -- Supporting Role', 'Melissa Leo', 'The Fighter', 'Alice Ward', 1)\n",
      "(23, 'Actress -- Supporting Role', 'Melissa Leo', 'The Fighter', 'Alice Ward', 1)\n",
      "(1, 'Actress -- Supporting Role', 'Hailee Steinfeld', 'True Grit', 'Mattie Ross', 0)\n",
      "(12, 'Actress -- Supporting Role', 'Hailee Steinfeld', 'True Grit', 'Mattie Ross', 0)\n",
      "(23, 'Actress -- Supporting Role', 'Hailee Steinfeld', 'True Grit', 'Mattie Ross', 0)\n",
      "(1, 'Actress -- Supporting Role', 'Jacki Weaver', 'Animal Kingdom', \"Janine 'Smurf' Cody\", 0)\n",
      "(12, 'Actress -- Supporting Role', 'Jacki Weaver', 'Animal Kingdom', \"Janine 'Smurf' Cody\", 0)\n",
      "(23, 'Actress -- Supporting Role', 'Jacki Weaver', 'Animal Kingdom', \"Janine 'Smurf' Cody\", 0)\n",
      "(2, 'Actor -- Leading Role', 'Jeff Bridges', 'Crazy Heart', 'Bad Blake', 1)\n",
      "(13, 'Actor -- Leading Role', 'Jeff Bridges', 'Crazy Heart', 'Bad Blake', 1)\n",
      "(24, 'Actor -- Leading Role', 'Jeff Bridges', 'Crazy Heart', 'Bad Blake', 1)\n",
      "(2, 'Actor -- Leading Role', 'George Clooney', 'Up in the Air', 'Ryan Bingham', 0)\n",
      "(13, 'Actor -- Leading Role', 'George Clooney', 'Up in the Air', 'Ryan Bingham', 0)\n",
      "(24, 'Actor -- Leading Role', 'George Clooney', 'Up in the Air', 'Ryan Bingham', 0)\n",
      "(2, 'Actor -- Leading Role', 'Colin Firth', 'A Single Man', 'George', 0)\n",
      "(13, 'Actor -- Leading Role', 'Colin Firth', 'A Single Man', 'George', 0)\n",
      "(24, 'Actor -- Leading Role', 'Colin Firth', 'A Single Man', 'George', 0)\n",
      "(2, 'Actor -- Leading Role', 'Morgan Freeman', 'Invictus', 'Nelson Mandela', 0)\n",
      "(13, 'Actor -- Leading Role', 'Morgan Freeman', 'Invictus', 'Nelson Mandela', 0)\n",
      "(24, 'Actor -- Leading Role', 'Morgan Freeman', 'Invictus', 'Nelson Mandela', 0)\n",
      "(2, 'Actor -- Leading Role', 'Jeremy Renner', 'The Hurt Locker', 'Staff Sergeant William James', 0)\n",
      "(13, 'Actor -- Leading Role', 'Jeremy Renner', 'The Hurt Locker', 'Staff Sergeant William James', 0)\n",
      "(24, 'Actor -- Leading Role', 'Jeremy Renner', 'The Hurt Locker', 'Staff Sergeant William James', 0)\n",
      "(2, 'Actor -- Supporting Role', 'Matt Damon', 'Invictus', 'Francois Pienaar', 0)\n",
      "(13, 'Actor -- Supporting Role', 'Matt Damon', 'Invictus', 'Francois Pienaar', 0)\n",
      "(24, 'Actor -- Supporting Role', 'Matt Damon', 'Invictus', 'Francois Pienaar', 0)\n",
      "(2, 'Actor -- Supporting Role', 'Woody Harrelson', 'The Messenger', 'Captain Tony Stone', 0)\n",
      "(13, 'Actor -- Supporting Role', 'Woody Harrelson', 'The Messenger', 'Captain Tony Stone', 0)\n",
      "(24, 'Actor -- Supporting Role', 'Woody Harrelson', 'The Messenger', 'Captain Tony Stone', 0)\n",
      "(2, 'Actor -- Supporting Role', 'Christopher Plummer', 'The Last Station', 'Tolstoy', 0)\n",
      "(13, 'Actor -- Supporting Role', 'Christopher Plummer', 'The Last Station', 'Tolstoy', 0)\n",
      "(24, 'Actor -- Supporting Role', 'Christopher Plummer', 'The Last Station', 'Tolstoy', 0)\n",
      "(2, 'Actor -- Supporting Role', 'Stanley Tucci', 'The Lovely Bones', 'George Harvey', 0)\n",
      "(13, 'Actor -- Supporting Role', 'Stanley Tucci', 'The Lovely Bones', 'George Harvey', 0)\n",
      "(24, 'Actor -- Supporting Role', 'Stanley Tucci', 'The Lovely Bones', 'George Harvey', 0)\n",
      "(2, 'Actor -- Supporting Role', 'Christoph Waltz', 'Inglourious Basterds', 'Col. Hans Landa', 1)\n",
      "(13, 'Actor -- Supporting Role', 'Christoph Waltz', 'Inglourious Basterds', 'Col. Hans Landa', 1)\n",
      "(24, 'Actor -- Supporting Role', 'Christoph Waltz', 'Inglourious Basterds', 'Col. Hans Landa', 1)\n",
      "(2, 'Actress -- Leading Role', 'Sandra Bullock', 'The Blind Side', 'Leigh Anne Tuohy', 1)\n",
      "(13, 'Actress -- Leading Role', 'Sandra Bullock', 'The Blind Side', 'Leigh Anne Tuohy', 1)\n",
      "(24, 'Actress -- Leading Role', 'Sandra Bullock', 'The Blind Side', 'Leigh Anne Tuohy', 1)\n",
      "(2, 'Actress -- Leading Role', 'Helen Mirren', 'The Last Station', 'Sofya', 0)\n",
      "(13, 'Actress -- Leading Role', 'Helen Mirren', 'The Last Station', 'Sofya', 0)\n",
      "(24, 'Actress -- Leading Role', 'Helen Mirren', 'The Last Station', 'Sofya', 0)\n",
      "(2, 'Actress -- Leading Role', 'Carey Mulligan', 'An Education', 'Jenny', 0)\n",
      "(13, 'Actress -- Leading Role', 'Carey Mulligan', 'An Education', 'Jenny', 0)\n",
      "(24, 'Actress -- Leading Role', 'Carey Mulligan', 'An Education', 'Jenny', 0)\n",
      "(2, 'Actress -- Leading Role', 'Gabourey Sidibe', \"Precious: Based on the Novel 'Push' by Sapphire\", 'Precious', 0)\n",
      "(13, 'Actress -- Leading Role', 'Gabourey Sidibe', \"Precious: Based on the Novel 'Push' by Sapphire\", 'Precious', 0)\n",
      "(24, 'Actress -- Leading Role', 'Gabourey Sidibe', \"Precious: Based on the Novel 'Push' by Sapphire\", 'Precious', 0)\n",
      "(2, 'Actress -- Leading Role', 'Meryl Streep', 'Julie & Julia', 'Julia Child', 0)\n",
      "(13, 'Actress -- Leading Role', 'Meryl Streep', 'Julie & Julia', 'Julia Child', 0)\n",
      "(24, 'Actress -- Leading Role', 'Meryl Streep', 'Julie & Julia', 'Julia Child', 0)\n",
      "(2, 'Actress -- Supporting Role', 'Penélope Cruz', 'Nine', 'Carla', 0)\n",
      "(13, 'Actress -- Supporting Role', 'Penélope Cruz', 'Nine', 'Carla', 0)\n",
      "(24, 'Actress -- Supporting Role', 'Penélope Cruz', 'Nine', 'Carla', 0)\n",
      "(2, 'Actress -- Supporting Role', 'Vera Farmiga', 'Up in the Air', 'Alex Goran', 0)\n",
      "(13, 'Actress -- Supporting Role', 'Vera Farmiga', 'Up in the Air', 'Alex Goran', 0)\n",
      "(24, 'Actress -- Supporting Role', 'Vera Farmiga', 'Up in the Air', 'Alex Goran', 0)\n",
      "(2, 'Actress -- Supporting Role', 'Maggie Gyllenhaal', 'Crazy Heart', 'Jean Craddock', 0)\n",
      "(13, 'Actress -- Supporting Role', 'Maggie Gyllenhaal', 'Crazy Heart', 'Jean Craddock', 0)\n",
      "(24, 'Actress -- Supporting Role', 'Maggie Gyllenhaal', 'Crazy Heart', 'Jean Craddock', 0)\n",
      "(2, 'Actress -- Supporting Role', 'Anna Kendrick', 'Up in the Air', 'Natalie Keener', 0)\n",
      "(13, 'Actress -- Supporting Role', 'Anna Kendrick', 'Up in the Air', 'Natalie Keener', 0)\n",
      "(24, 'Actress -- Supporting Role', 'Anna Kendrick', 'Up in the Air', 'Natalie Keener', 0)\n",
      "(2, 'Actress -- Supporting Role', \"Mo'Nique\", \"Precious: Based on the Novel 'Push' by Sapphire\", 'Mary', 1)\n",
      "(13, 'Actress -- Supporting Role', \"Mo'Nique\", \"Precious: Based on the Novel 'Push' by Sapphire\", 'Mary', 1)\n",
      "(24, 'Actress -- Supporting Role', \"Mo'Nique\", \"Precious: Based on the Novel 'Push' by Sapphire\", 'Mary', 1)\n",
      "(3, 'Actor -- Leading Role', 'Richard Jenkins', 'The Visitor', 'Walter', 0)\n",
      "(14, 'Actor -- Leading Role', 'Richard Jenkins', 'The Visitor', 'Walter', 0)\n",
      "(25, 'Actor -- Leading Role', 'Richard Jenkins', 'The Visitor', 'Walter', 0)\n",
      "(3, 'Actor -- Leading Role', 'Frank Langella', 'Frost/Nixon', 'Richard Nixon', 0)\n",
      "(14, 'Actor -- Leading Role', 'Frank Langella', 'Frost/Nixon', 'Richard Nixon', 0)\n",
      "(25, 'Actor -- Leading Role', 'Frank Langella', 'Frost/Nixon', 'Richard Nixon', 0)\n",
      "(3, 'Actor -- Leading Role', 'Sean Penn', 'Milk', 'Harvey Milk', 1)\n",
      "(14, 'Actor -- Leading Role', 'Sean Penn', 'Milk', 'Harvey Milk', 1)\n",
      "(25, 'Actor -- Leading Role', 'Sean Penn', 'Milk', 'Harvey Milk', 1)\n",
      "(3, 'Actor -- Leading Role', 'Brad Pitt', 'The Curious Case of Benjamin Button', 'Benjamin Button', 0)\n",
      "(14, 'Actor -- Leading Role', 'Brad Pitt', 'The Curious Case of Benjamin Button', 'Benjamin Button', 0)\n",
      "(25, 'Actor -- Leading Role', 'Brad Pitt', 'The Curious Case of Benjamin Button', 'Benjamin Button', 0)\n",
      "(3, 'Actor -- Leading Role', 'Mickey Rourke', 'The Wrestler', 'Randy', 0)\n",
      "(14, 'Actor -- Leading Role', 'Mickey Rourke', 'The Wrestler', 'Randy', 0)\n",
      "(25, 'Actor -- Leading Role', 'Mickey Rourke', 'The Wrestler', 'Randy', 0)\n",
      "(3, 'Actor -- Supporting Role', 'Josh Brolin', 'Milk', 'Dan White', 0)\n",
      "(14, 'Actor -- Supporting Role', 'Josh Brolin', 'Milk', 'Dan White', 0)\n",
      "(25, 'Actor -- Supporting Role', 'Josh Brolin', 'Milk', 'Dan White', 0)\n",
      "(3, 'Actor -- Supporting Role', 'Robert Downey Jr.', 'Tropic Thunder', 'Kirk Lazarus', 0)\n",
      "(14, 'Actor -- Supporting Role', 'Robert Downey Jr.', 'Tropic Thunder', 'Kirk Lazarus', 0)\n",
      "(25, 'Actor -- Supporting Role', 'Robert Downey Jr.', 'Tropic Thunder', 'Kirk Lazarus', 0)\n",
      "(3, 'Actor -- Supporting Role', 'Philip Seymour Hoffman', 'Doubt', 'Father Brendan Flynn', 0)\n",
      "(14, 'Actor -- Supporting Role', 'Philip Seymour Hoffman', 'Doubt', 'Father Brendan Flynn', 0)\n",
      "(25, 'Actor -- Supporting Role', 'Philip Seymour Hoffman', 'Doubt', 'Father Brendan Flynn', 0)\n",
      "(3, 'Actor -- Supporting Role', 'Heath Ledger', 'The Dark Knight', 'Joker', 1)\n",
      "(14, 'Actor -- Supporting Role', 'Heath Ledger', 'The Dark Knight', 'Joker', 1)\n",
      "(25, 'Actor -- Supporting Role', 'Heath Ledger', 'The Dark Knight', 'Joker', 1)\n",
      "(3, 'Actor -- Supporting Role', 'Michael Shannon', 'Revolutionary Road', 'John Givings', 0)\n",
      "(14, 'Actor -- Supporting Role', 'Michael Shannon', 'Revolutionary Road', 'John Givings', 0)\n",
      "(25, 'Actor -- Supporting Role', 'Michael Shannon', 'Revolutionary Road', 'John Givings', 0)\n",
      "(3, 'Actress -- Leading Role', 'Anne Hathaway', 'Rachel Getting Married', 'Kym', 0)\n",
      "(14, 'Actress -- Leading Role', 'Anne Hathaway', 'Rachel Getting Married', 'Kym', 0)\n",
      "(25, 'Actress -- Leading Role', 'Anne Hathaway', 'Rachel Getting Married', 'Kym', 0)\n",
      "(3, 'Actress -- Leading Role', 'Angelina Jolie', 'Changeling', 'Christine Collins', 0)\n",
      "(14, 'Actress -- Leading Role', 'Angelina Jolie', 'Changeling', 'Christine Collins', 0)\n",
      "(25, 'Actress -- Leading Role', 'Angelina Jolie', 'Changeling', 'Christine Collins', 0)\n",
      "(3, 'Actress -- Leading Role', 'Melissa Leo', 'Frozen River', 'Ray Eddy', 0)\n",
      "(14, 'Actress -- Leading Role', 'Melissa Leo', 'Frozen River', 'Ray Eddy', 0)\n",
      "(25, 'Actress -- Leading Role', 'Melissa Leo', 'Frozen River', 'Ray Eddy', 0)\n",
      "(3, 'Actress -- Leading Role', 'Meryl Streep', 'Doubt', 'Sister Aloysius Beauvier', 0)\n",
      "(14, 'Actress -- Leading Role', 'Meryl Streep', 'Doubt', 'Sister Aloysius Beauvier', 0)\n",
      "(25, 'Actress -- Leading Role', 'Meryl Streep', 'Doubt', 'Sister Aloysius Beauvier', 0)\n",
      "(3, 'Actress -- Leading Role', 'Kate Winslet', 'The Reader', 'Hanna Schmitz', 1)\n",
      "(14, 'Actress -- Leading Role', 'Kate Winslet', 'The Reader', 'Hanna Schmitz', 1)\n",
      "(25, 'Actress -- Leading Role', 'Kate Winslet', 'The Reader', 'Hanna Schmitz', 1)\n",
      "(3, 'Actress -- Supporting Role', 'Amy Adams', 'Doubt', 'Sister James', 0)\n",
      "(14, 'Actress -- Supporting Role', 'Amy Adams', 'Doubt', 'Sister James', 0)\n",
      "(25, 'Actress -- Supporting Role', 'Amy Adams', 'Doubt', 'Sister James', 0)\n",
      "(3, 'Actress -- Supporting Role', 'Penélope Cruz', 'Vicky Cristina Barcelona', 'Maria Elena', 1)\n",
      "(14, 'Actress -- Supporting Role', 'Penélope Cruz', 'Vicky Cristina Barcelona', 'Maria Elena', 1)\n",
      "(25, 'Actress -- Supporting Role', 'Penélope Cruz', 'Vicky Cristina Barcelona', 'Maria Elena', 1)\n",
      "(3, 'Actress -- Supporting Role', 'Viola Davis', 'Doubt', 'Mrs. Miller', 0)\n",
      "(14, 'Actress -- Supporting Role', 'Viola Davis', 'Doubt', 'Mrs. Miller', 0)\n",
      "(25, 'Actress -- Supporting Role', 'Viola Davis', 'Doubt', 'Mrs. Miller', 0)\n",
      "(3, 'Actress -- Supporting Role', 'Taraji P. Henson', 'The Curious Case of Benjamin Button', 'Queenie', 0)\n",
      "(14, 'Actress -- Supporting Role', 'Taraji P. Henson', 'The Curious Case of Benjamin Button', 'Queenie', 0)\n",
      "(25, 'Actress -- Supporting Role', 'Taraji P. Henson', 'The Curious Case of Benjamin Button', 'Queenie', 0)\n",
      "(3, 'Actress -- Supporting Role', 'Marisa Tomei', 'The Wrestler', 'Cassidy', 0)\n",
      "(14, 'Actress -- Supporting Role', 'Marisa Tomei', 'The Wrestler', 'Cassidy', 0)\n",
      "(25, 'Actress -- Supporting Role', 'Marisa Tomei', 'The Wrestler', 'Cassidy', 0)\n",
      "(4, 'Actor -- Leading Role', 'George Clooney', 'Michael Clayton', 'Michael Clayton', 0)\n",
      "(15, 'Actor -- Leading Role', 'George Clooney', 'Michael Clayton', 'Michael Clayton', 0)\n",
      "(26, 'Actor -- Leading Role', 'George Clooney', 'Michael Clayton', 'Michael Clayton', 0)\n",
      "(4, 'Actor -- Leading Role', 'Daniel Day-Lewis', 'There Will Be Blood', 'Daniel Plainview', 1)\n",
      "(15, 'Actor -- Leading Role', 'Daniel Day-Lewis', 'There Will Be Blood', 'Daniel Plainview', 1)\n",
      "(26, 'Actor -- Leading Role', 'Daniel Day-Lewis', 'There Will Be Blood', 'Daniel Plainview', 1)\n",
      "(4, 'Actor -- Leading Role', 'Johnny Depp', 'Sweeney Todd The Demon Barber of Fleet Street', 'Sweeney Todd', 0)\n",
      "(15, 'Actor -- Leading Role', 'Johnny Depp', 'Sweeney Todd The Demon Barber of Fleet Street', 'Sweeney Todd', 0)\n",
      "(26, 'Actor -- Leading Role', 'Johnny Depp', 'Sweeney Todd The Demon Barber of Fleet Street', 'Sweeney Todd', 0)\n",
      "(4, 'Actor -- Leading Role', 'Tommy Lee Jones', 'In the Valley of Elah', 'Hank Deerfield', 0)\n",
      "(15, 'Actor -- Leading Role', 'Tommy Lee Jones', 'In the Valley of Elah', 'Hank Deerfield', 0)\n",
      "(26, 'Actor -- Leading Role', 'Tommy Lee Jones', 'In the Valley of Elah', 'Hank Deerfield', 0)\n",
      "(4, 'Actor -- Leading Role', 'Viggo Mortensen', 'Eastern Promises', 'Nikolai', 0)\n",
      "(15, 'Actor -- Leading Role', 'Viggo Mortensen', 'Eastern Promises', 'Nikolai', 0)\n",
      "(26, 'Actor -- Leading Role', 'Viggo Mortensen', 'Eastern Promises', 'Nikolai', 0)\n",
      "(4, 'Actor -- Supporting Role', 'Casey Affleck', 'The Assassination of Jesse James by the Coward Robert Ford', 'Robert Ford', 0)\n",
      "(15, 'Actor -- Supporting Role', 'Casey Affleck', 'The Assassination of Jesse James by the Coward Robert Ford', 'Robert Ford', 0)\n",
      "(26, 'Actor -- Supporting Role', 'Casey Affleck', 'The Assassination of Jesse James by the Coward Robert Ford', 'Robert Ford', 0)\n",
      "(4, 'Actor -- Supporting Role', 'Javier Bardem', 'No Country for Old Men', 'Anton Chigurh', 1)\n",
      "(15, 'Actor -- Supporting Role', 'Javier Bardem', 'No Country for Old Men', 'Anton Chigurh', 1)\n",
      "(26, 'Actor -- Supporting Role', 'Javier Bardem', 'No Country for Old Men', 'Anton Chigurh', 1)\n",
      "(4, 'Actor -- Supporting Role', 'Philip Seymour Hoffman', \"Charlie Wilson's War\", 'Gust Avrakotos', 0)\n",
      "(15, 'Actor -- Supporting Role', 'Philip Seymour Hoffman', \"Charlie Wilson's War\", 'Gust Avrakotos', 0)\n",
      "(26, 'Actor -- Supporting Role', 'Philip Seymour Hoffman', \"Charlie Wilson's War\", 'Gust Avrakotos', 0)\n",
      "(4, 'Actor -- Supporting Role', 'Hal Holbrook', 'Into the Wild', 'Ron Franz', 0)\n",
      "(15, 'Actor -- Supporting Role', 'Hal Holbrook', 'Into the Wild', 'Ron Franz', 0)\n",
      "(26, 'Actor -- Supporting Role', 'Hal Holbrook', 'Into the Wild', 'Ron Franz', 0)\n",
      "(4, 'Actor -- Supporting Role', 'Tom Wilkinson', 'Michael Clayton', 'Arthur Edens', 0)\n",
      "(15, 'Actor -- Supporting Role', 'Tom Wilkinson', 'Michael Clayton', 'Arthur Edens', 0)\n",
      "(26, 'Actor -- Supporting Role', 'Tom Wilkinson', 'Michael Clayton', 'Arthur Edens', 0)\n",
      "(4, 'Actress -- Leading Role', 'Cate Blanchett', 'Elizabeth: The Golden Age', 'Queen Elizabeth I', 0)\n",
      "(15, 'Actress -- Leading Role', 'Cate Blanchett', 'Elizabeth: The Golden Age', 'Queen Elizabeth I', 0)\n",
      "(26, 'Actress -- Leading Role', 'Cate Blanchett', 'Elizabeth: The Golden Age', 'Queen Elizabeth I', 0)\n",
      "(4, 'Actress -- Leading Role', 'Julie Christie', 'Away from Her', 'Fiona', 0)\n",
      "(15, 'Actress -- Leading Role', 'Julie Christie', 'Away from Her', 'Fiona', 0)\n",
      "(26, 'Actress -- Leading Role', 'Julie Christie', 'Away from Her', 'Fiona', 0)\n",
      "(4, 'Actress -- Leading Role', 'Marion Cotillard', 'La Vie en Rose', 'Edith Piaf', 1)\n",
      "(15, 'Actress -- Leading Role', 'Marion Cotillard', 'La Vie en Rose', 'Edith Piaf', 1)\n",
      "(26, 'Actress -- Leading Role', 'Marion Cotillard', 'La Vie en Rose', 'Edith Piaf', 1)\n",
      "(4, 'Actress -- Leading Role', 'Laura Linney', 'The Savages', 'Wendy Savage', 0)\n",
      "(15, 'Actress -- Leading Role', 'Laura Linney', 'The Savages', 'Wendy Savage', 0)\n",
      "(26, 'Actress -- Leading Role', 'Laura Linney', 'The Savages', 'Wendy Savage', 0)\n",
      "(4, 'Actress -- Leading Role', 'Ellen Page', 'Juno', 'Juno MacGuff', 0)\n",
      "(15, 'Actress -- Leading Role', 'Ellen Page', 'Juno', 'Juno MacGuff', 0)\n",
      "(26, 'Actress -- Leading Role', 'Ellen Page', 'Juno', 'Juno MacGuff', 0)\n",
      "(4, 'Actress -- Supporting Role', 'Cate Blanchett', \"I'm Not There\", 'Jude', 0)\n",
      "(15, 'Actress -- Supporting Role', 'Cate Blanchett', \"I'm Not There\", 'Jude', 0)\n",
      "(26, 'Actress -- Supporting Role', 'Cate Blanchett', \"I'm Not There\", 'Jude', 0)\n",
      "(4, 'Actress -- Supporting Role', 'Ruby Dee', 'American Gangster', 'Mama Lucas', 0)\n",
      "(15, 'Actress -- Supporting Role', 'Ruby Dee', 'American Gangster', 'Mama Lucas', 0)\n",
      "(26, 'Actress -- Supporting Role', 'Ruby Dee', 'American Gangster', 'Mama Lucas', 0)\n",
      "(4, 'Actress -- Supporting Role', 'Saoirse Ronan', 'Atonement', 'Briony Tallis, aged 13', 0)\n",
      "(15, 'Actress -- Supporting Role', 'Saoirse Ronan', 'Atonement', 'Briony Tallis, aged 13', 0)\n",
      "(26, 'Actress -- Supporting Role', 'Saoirse Ronan', 'Atonement', 'Briony Tallis, aged 13', 0)\n",
      "(4, 'Actress -- Supporting Role', 'Amy Ryan', 'Gone Baby Gone', 'Helene McCready', 0)\n",
      "(15, 'Actress -- Supporting Role', 'Amy Ryan', 'Gone Baby Gone', 'Helene McCready', 0)\n",
      "(26, 'Actress -- Supporting Role', 'Amy Ryan', 'Gone Baby Gone', 'Helene McCready', 0)\n",
      "(4, 'Actress -- Supporting Role', 'Tilda Swinton', 'Michael Clayton', 'Karen Crowder', 1)\n",
      "(15, 'Actress -- Supporting Role', 'Tilda Swinton', 'Michael Clayton', 'Karen Crowder', 1)\n",
      "(26, 'Actress -- Supporting Role', 'Tilda Swinton', 'Michael Clayton', 'Karen Crowder', 1)\n",
      "(5, 'Actor -- Leading Role', 'Leonardo DiCaprio', 'Blood Diamond', 'Danny Archer', 0)\n",
      "(16, 'Actor -- Leading Role', 'Leonardo DiCaprio', 'Blood Diamond', 'Danny Archer', 0)\n",
      "(27, 'Actor -- Leading Role', 'Leonardo DiCaprio', 'Blood Diamond', 'Danny Archer', 0)\n",
      "(5, 'Actor -- Leading Role', 'Ryan Gosling', 'Half Nelson', 'Dan Dunne', 0)\n",
      "(16, 'Actor -- Leading Role', 'Ryan Gosling', 'Half Nelson', 'Dan Dunne', 0)\n",
      "(27, 'Actor -- Leading Role', 'Ryan Gosling', 'Half Nelson', 'Dan Dunne', 0)\n",
      "(5, 'Actor -- Leading Role', \"Peter O'Toole\", 'Venus', 'Maurice', 0)\n",
      "(16, 'Actor -- Leading Role', \"Peter O'Toole\", 'Venus', 'Maurice', 0)\n",
      "(27, 'Actor -- Leading Role', \"Peter O'Toole\", 'Venus', 'Maurice', 0)\n",
      "(5, 'Actor -- Leading Role', 'Will Smith', 'The Pursuit of Happyness', 'Chris Gardner', 0)\n",
      "(16, 'Actor -- Leading Role', 'Will Smith', 'The Pursuit of Happyness', 'Chris Gardner', 0)\n",
      "(27, 'Actor -- Leading Role', 'Will Smith', 'The Pursuit of Happyness', 'Chris Gardner', 0)\n",
      "(5, 'Actor -- Leading Role', 'Forest Whitaker', 'The Last King of Scotland', 'Idi Amin', 1)\n",
      "(16, 'Actor -- Leading Role', 'Forest Whitaker', 'The Last King of Scotland', 'Idi Amin', 1)\n",
      "(27, 'Actor -- Leading Role', 'Forest Whitaker', 'The Last King of Scotland', 'Idi Amin', 1)\n",
      "(5, 'Actor -- Supporting Role', 'Alan Arkin', 'Little Miss Sunshine', 'Grandpa', 1)\n",
      "(16, 'Actor -- Supporting Role', 'Alan Arkin', 'Little Miss Sunshine', 'Grandpa', 1)\n",
      "(27, 'Actor -- Supporting Role', 'Alan Arkin', 'Little Miss Sunshine', 'Grandpa', 1)\n",
      "(5, 'Actor -- Supporting Role', 'Jackie Earle Haley', 'Little Children', 'Ronnie J. McGorvey', 0)\n",
      "(16, 'Actor -- Supporting Role', 'Jackie Earle Haley', 'Little Children', 'Ronnie J. McGorvey', 0)\n",
      "(27, 'Actor -- Supporting Role', 'Jackie Earle Haley', 'Little Children', 'Ronnie J. McGorvey', 0)\n",
      "(5, 'Actor -- Supporting Role', 'Djimon Hounsou', 'Blood Diamond', 'Solomon Vandy', 0)\n",
      "(16, 'Actor -- Supporting Role', 'Djimon Hounsou', 'Blood Diamond', 'Solomon Vandy', 0)\n",
      "(27, 'Actor -- Supporting Role', 'Djimon Hounsou', 'Blood Diamond', 'Solomon Vandy', 0)\n",
      "(5, 'Actor -- Supporting Role', 'Eddie Murphy', 'Dreamgirls', \"James 'Thunder' Early\", 0)\n",
      "(16, 'Actor -- Supporting Role', 'Eddie Murphy', 'Dreamgirls', \"James 'Thunder' Early\", 0)\n",
      "(27, 'Actor -- Supporting Role', 'Eddie Murphy', 'Dreamgirls', \"James 'Thunder' Early\", 0)\n",
      "(5, 'Actor -- Supporting Role', 'Mark Wahlberg', 'The Departed', 'Dignam', 0)\n",
      "(16, 'Actor -- Supporting Role', 'Mark Wahlberg', 'The Departed', 'Dignam', 0)\n",
      "(27, 'Actor -- Supporting Role', 'Mark Wahlberg', 'The Departed', 'Dignam', 0)\n",
      "(5, 'Actress -- Leading Role', 'Penélope Cruz', 'Volver', 'Raimunda', 0)\n",
      "(16, 'Actress -- Leading Role', 'Penélope Cruz', 'Volver', 'Raimunda', 0)\n",
      "(27, 'Actress -- Leading Role', 'Penélope Cruz', 'Volver', 'Raimunda', 0)\n",
      "(5, 'Actress -- Leading Role', 'Judi Dench', 'Notes on a Scandal', 'Barbara Covett', 0)\n",
      "(16, 'Actress -- Leading Role', 'Judi Dench', 'Notes on a Scandal', 'Barbara Covett', 0)\n",
      "(27, 'Actress -- Leading Role', 'Judi Dench', 'Notes on a Scandal', 'Barbara Covett', 0)\n",
      "(5, 'Actress -- Leading Role', 'Helen Mirren', 'The Queen', 'The Queen', 1)\n",
      "(16, 'Actress -- Leading Role', 'Helen Mirren', 'The Queen', 'The Queen', 1)\n",
      "(27, 'Actress -- Leading Role', 'Helen Mirren', 'The Queen', 'The Queen', 1)\n",
      "(5, 'Actress -- Leading Role', 'Meryl Streep', 'The Devil Wears Prada', 'Miranda Priestly', 0)\n",
      "(16, 'Actress -- Leading Role', 'Meryl Streep', 'The Devil Wears Prada', 'Miranda Priestly', 0)\n",
      "(27, 'Actress -- Leading Role', 'Meryl Streep', 'The Devil Wears Prada', 'Miranda Priestly', 0)\n",
      "(5, 'Actress -- Leading Role', 'Kate Winslet', 'Little Children', 'Sarah Pierce', 0)\n",
      "(16, 'Actress -- Leading Role', 'Kate Winslet', 'Little Children', 'Sarah Pierce', 0)\n",
      "(27, 'Actress -- Leading Role', 'Kate Winslet', 'Little Children', 'Sarah Pierce', 0)\n",
      "(5, 'Actress -- Supporting Role', 'Adriana Barraza', 'Babel', 'Amelia', 0)\n",
      "(16, 'Actress -- Supporting Role', 'Adriana Barraza', 'Babel', 'Amelia', 0)\n",
      "(27, 'Actress -- Supporting Role', 'Adriana Barraza', 'Babel', 'Amelia', 0)\n",
      "(5, 'Actress -- Supporting Role', 'Cate Blanchett', 'Notes on a Scandal', 'Sheba Hart', 0)\n",
      "(16, 'Actress -- Supporting Role', 'Cate Blanchett', 'Notes on a Scandal', 'Sheba Hart', 0)\n",
      "(27, 'Actress -- Supporting Role', 'Cate Blanchett', 'Notes on a Scandal', 'Sheba Hart', 0)\n",
      "(5, 'Actress -- Supporting Role', 'Abigail Breslin', 'Little Miss Sunshine', 'Olive', 0)\n",
      "(16, 'Actress -- Supporting Role', 'Abigail Breslin', 'Little Miss Sunshine', 'Olive', 0)\n",
      "(27, 'Actress -- Supporting Role', 'Abigail Breslin', 'Little Miss Sunshine', 'Olive', 0)\n",
      "(5, 'Actress -- Supporting Role', 'Jennifer Hudson', 'Dreamgirls', 'Effie White', 1)\n",
      "(16, 'Actress -- Supporting Role', 'Jennifer Hudson', 'Dreamgirls', 'Effie White', 1)\n",
      "(27, 'Actress -- Supporting Role', 'Jennifer Hudson', 'Dreamgirls', 'Effie White', 1)\n",
      "(5, 'Actress -- Supporting Role', 'Rinko Kikuchi', 'Babel', 'Chieko', 0)\n",
      "(16, 'Actress -- Supporting Role', 'Rinko Kikuchi', 'Babel', 'Chieko', 0)\n",
      "(27, 'Actress -- Supporting Role', 'Rinko Kikuchi', 'Babel', 'Chieko', 0)\n",
      "(6, 'Actor -- Leading Role', 'Philip Seymour Hoffman', 'Capote', 'Truman Capote', 1)\n",
      "(17, 'Actor -- Leading Role', 'Philip Seymour Hoffman', 'Capote', 'Truman Capote', 1)\n",
      "(28, 'Actor -- Leading Role', 'Philip Seymour Hoffman', 'Capote', 'Truman Capote', 1)\n",
      "(6, 'Actor -- Leading Role', 'Terrence Howard', 'Hustle & Flow', 'DJay', 0)\n",
      "(17, 'Actor -- Leading Role', 'Terrence Howard', 'Hustle & Flow', 'DJay', 0)\n",
      "(28, 'Actor -- Leading Role', 'Terrence Howard', 'Hustle & Flow', 'DJay', 0)\n",
      "(6, 'Actor -- Leading Role', 'Heath Ledger', 'Brokeback Mountain', 'Ennis Del Mar', 0)\n",
      "(17, 'Actor -- Leading Role', 'Heath Ledger', 'Brokeback Mountain', 'Ennis Del Mar', 0)\n",
      "(28, 'Actor -- Leading Role', 'Heath Ledger', 'Brokeback Mountain', 'Ennis Del Mar', 0)\n",
      "(6, 'Actor -- Leading Role', 'Joaquin Phoenix', 'Walk the Line', 'John R. Cash', 0)\n",
      "(17, 'Actor -- Leading Role', 'Joaquin Phoenix', 'Walk the Line', 'John R. Cash', 0)\n",
      "(28, 'Actor -- Leading Role', 'Joaquin Phoenix', 'Walk the Line', 'John R. Cash', 0)\n",
      "(6, 'Actor -- Leading Role', 'David Strathairn', 'Good Night, and Good Luck.', 'Edward R. Murrow', 0)\n",
      "(17, 'Actor -- Leading Role', 'David Strathairn', 'Good Night, and Good Luck.', 'Edward R. Murrow', 0)\n",
      "(28, 'Actor -- Leading Role', 'David Strathairn', 'Good Night, and Good Luck.', 'Edward R. Murrow', 0)\n",
      "(6, 'Actor -- Supporting Role', 'George Clooney', 'Syriana', 'Bob Barnes', 1)\n",
      "(17, 'Actor -- Supporting Role', 'George Clooney', 'Syriana', 'Bob Barnes', 1)\n",
      "(28, 'Actor -- Supporting Role', 'George Clooney', 'Syriana', 'Bob Barnes', 1)\n",
      "(6, 'Actor -- Supporting Role', 'Matt Dillon', 'Crash', 'Officer Ryan', 0)\n",
      "(17, 'Actor -- Supporting Role', 'Matt Dillon', 'Crash', 'Officer Ryan', 0)\n",
      "(28, 'Actor -- Supporting Role', 'Matt Dillon', 'Crash', 'Officer Ryan', 0)\n",
      "(6, 'Actor -- Supporting Role', 'Paul Giamatti', 'Cinderella Man', 'Joe Gould', 0)\n",
      "(17, 'Actor -- Supporting Role', 'Paul Giamatti', 'Cinderella Man', 'Joe Gould', 0)\n",
      "(28, 'Actor -- Supporting Role', 'Paul Giamatti', 'Cinderella Man', 'Joe Gould', 0)\n",
      "(6, 'Actor -- Supporting Role', 'Jake Gyllenhaal', 'Brokeback Mountain', 'Jack Twist', 0)\n",
      "(17, 'Actor -- Supporting Role', 'Jake Gyllenhaal', 'Brokeback Mountain', 'Jack Twist', 0)\n",
      "(28, 'Actor -- Supporting Role', 'Jake Gyllenhaal', 'Brokeback Mountain', 'Jack Twist', 0)\n",
      "(6, 'Actor -- Supporting Role', 'William Hurt', 'A History of Violence', 'Richie Cusack', 0)\n",
      "(17, 'Actor -- Supporting Role', 'William Hurt', 'A History of Violence', 'Richie Cusack', 0)\n",
      "(28, 'Actor -- Supporting Role', 'William Hurt', 'A History of Violence', 'Richie Cusack', 0)\n",
      "(6, 'Actress -- Leading Role', 'Judi Dench', 'Mrs. Henderson Presents', 'Mrs. Laura Henderson', 0)\n",
      "(17, 'Actress -- Leading Role', 'Judi Dench', 'Mrs. Henderson Presents', 'Mrs. Laura Henderson', 0)\n",
      "(28, 'Actress -- Leading Role', 'Judi Dench', 'Mrs. Henderson Presents', 'Mrs. Laura Henderson', 0)\n",
      "(6, 'Actress -- Leading Role', 'Felicity Huffman', 'Transamerica', 'Bree', 0)\n",
      "(17, 'Actress -- Leading Role', 'Felicity Huffman', 'Transamerica', 'Bree', 0)\n",
      "(28, 'Actress -- Leading Role', 'Felicity Huffman', 'Transamerica', 'Bree', 0)\n",
      "(6, 'Actress -- Leading Role', 'Keira Knightley', 'Pride & Prejudice', 'Elizabeth Bennet', 0)\n",
      "(17, 'Actress -- Leading Role', 'Keira Knightley', 'Pride & Prejudice', 'Elizabeth Bennet', 0)\n",
      "(28, 'Actress -- Leading Role', 'Keira Knightley', 'Pride & Prejudice', 'Elizabeth Bennet', 0)\n",
      "(6, 'Actress -- Leading Role', 'Charlize Theron', 'North Country', 'Josey Aimes', 0)\n",
      "(17, 'Actress -- Leading Role', 'Charlize Theron', 'North Country', 'Josey Aimes', 0)\n",
      "(28, 'Actress -- Leading Role', 'Charlize Theron', 'North Country', 'Josey Aimes', 0)\n",
      "(6, 'Actress -- Leading Role', 'Reese Witherspoon', 'Walk the Line', 'June Carter', 1)\n",
      "(17, 'Actress -- Leading Role', 'Reese Witherspoon', 'Walk the Line', 'June Carter', 1)\n",
      "(28, 'Actress -- Leading Role', 'Reese Witherspoon', 'Walk the Line', 'June Carter', 1)\n",
      "(6, 'Actress -- Supporting Role', 'Amy Adams', 'Junebug', 'Ashley', 0)\n",
      "(17, 'Actress -- Supporting Role', 'Amy Adams', 'Junebug', 'Ashley', 0)\n",
      "(28, 'Actress -- Supporting Role', 'Amy Adams', 'Junebug', 'Ashley', 0)\n",
      "(6, 'Actress -- Supporting Role', 'Catherine Keener', 'Capote', 'Nelle Harper Lee', 0)\n",
      "(17, 'Actress -- Supporting Role', 'Catherine Keener', 'Capote', 'Nelle Harper Lee', 0)\n",
      "(28, 'Actress -- Supporting Role', 'Catherine Keener', 'Capote', 'Nelle Harper Lee', 0)\n",
      "(6, 'Actress -- Supporting Role', 'Frances McDormand', 'North Country', 'Glory', 0)\n",
      "(17, 'Actress -- Supporting Role', 'Frances McDormand', 'North Country', 'Glory', 0)\n",
      "(28, 'Actress -- Supporting Role', 'Frances McDormand', 'North Country', 'Glory', 0)\n",
      "(6, 'Actress -- Supporting Role', 'Rachel Weisz', 'The Constant Gardener', 'Tessa Quayle', 1)\n",
      "(17, 'Actress -- Supporting Role', 'Rachel Weisz', 'The Constant Gardener', 'Tessa Quayle', 1)\n",
      "(28, 'Actress -- Supporting Role', 'Rachel Weisz', 'The Constant Gardener', 'Tessa Quayle', 1)\n",
      "(6, 'Actress -- Supporting Role', 'Michelle Williams', 'Brokeback Mountain', 'Alma', 0)\n",
      "(17, 'Actress -- Supporting Role', 'Michelle Williams', 'Brokeback Mountain', 'Alma', 0)\n",
      "(28, 'Actress -- Supporting Role', 'Michelle Williams', 'Brokeback Mountain', 'Alma', 0)\n",
      "(7, 'Actor -- Leading Role', 'Don Cheadle', 'Hotel Rwanda', 'Paul Rusesabagina', 0)\n",
      "(18, 'Actor -- Leading Role', 'Don Cheadle', 'Hotel Rwanda', 'Paul Rusesabagina', 0)\n",
      "(29, 'Actor -- Leading Role', 'Don Cheadle', 'Hotel Rwanda', 'Paul Rusesabagina', 0)\n",
      "(7, 'Actor -- Leading Role', 'Johnny Depp', 'Finding Neverland', 'Sir James Matthew Barrie', 0)\n",
      "(18, 'Actor -- Leading Role', 'Johnny Depp', 'Finding Neverland', 'Sir James Matthew Barrie', 0)\n",
      "(29, 'Actor -- Leading Role', 'Johnny Depp', 'Finding Neverland', 'Sir James Matthew Barrie', 0)\n",
      "(7, 'Actor -- Leading Role', 'Leonardo DiCaprio', 'The Aviator', 'Howard Hughes', 0)\n",
      "(18, 'Actor -- Leading Role', 'Leonardo DiCaprio', 'The Aviator', 'Howard Hughes', 0)\n",
      "(29, 'Actor -- Leading Role', 'Leonardo DiCaprio', 'The Aviator', 'Howard Hughes', 0)\n",
      "(7, 'Actor -- Leading Role', 'Clint Eastwood', 'Million Dollar Baby', 'Frankie Dunn', 0)\n",
      "(18, 'Actor -- Leading Role', 'Clint Eastwood', 'Million Dollar Baby', 'Frankie Dunn', 0)\n",
      "(29, 'Actor -- Leading Role', 'Clint Eastwood', 'Million Dollar Baby', 'Frankie Dunn', 0)\n",
      "(7, 'Actor -- Leading Role', 'Jamie Foxx', 'Ray', 'Ray Charles', 1)\n",
      "(18, 'Actor -- Leading Role', 'Jamie Foxx', 'Ray', 'Ray Charles', 1)\n",
      "(29, 'Actor -- Leading Role', 'Jamie Foxx', 'Ray', 'Ray Charles', 1)\n",
      "(7, 'Actor -- Supporting Role', 'Alan Alda', 'The Aviator', 'Senator Ralph Owen Brewster', 0)\n",
      "(18, 'Actor -- Supporting Role', 'Alan Alda', 'The Aviator', 'Senator Ralph Owen Brewster', 0)\n",
      "(29, 'Actor -- Supporting Role', 'Alan Alda', 'The Aviator', 'Senator Ralph Owen Brewster', 0)\n",
      "(7, 'Actor -- Supporting Role', 'Thomas Haden Church', 'Sideways', 'Jack', 0)\n",
      "(18, 'Actor -- Supporting Role', 'Thomas Haden Church', 'Sideways', 'Jack', 0)\n",
      "(29, 'Actor -- Supporting Role', 'Thomas Haden Church', 'Sideways', 'Jack', 0)\n",
      "(7, 'Actor -- Supporting Role', 'Jamie Foxx', 'Collateral', 'Max', 0)\n",
      "(18, 'Actor -- Supporting Role', 'Jamie Foxx', 'Collateral', 'Max', 0)\n",
      "(29, 'Actor -- Supporting Role', 'Jamie Foxx', 'Collateral', 'Max', 0)\n",
      "(7, 'Actor -- Supporting Role', 'Morgan Freeman', 'Million Dollar Baby', 'Eddie Scrap-Iron Dupris', 1)\n",
      "(18, 'Actor -- Supporting Role', 'Morgan Freeman', 'Million Dollar Baby', 'Eddie Scrap-Iron Dupris', 1)\n",
      "(29, 'Actor -- Supporting Role', 'Morgan Freeman', 'Million Dollar Baby', 'Eddie Scrap-Iron Dupris', 1)\n",
      "(7, 'Actor -- Supporting Role', 'Clive Owen', 'Closer', 'Larry', 0)\n",
      "(18, 'Actor -- Supporting Role', 'Clive Owen', 'Closer', 'Larry', 0)\n",
      "(29, 'Actor -- Supporting Role', 'Clive Owen', 'Closer', 'Larry', 0)\n",
      "(7, 'Actress -- Leading Role', 'Annette Bening', 'Being Julia', 'Julia Lambert', 0)\n",
      "(18, 'Actress -- Leading Role', 'Annette Bening', 'Being Julia', 'Julia Lambert', 0)\n",
      "(29, 'Actress -- Leading Role', 'Annette Bening', 'Being Julia', 'Julia Lambert', 0)\n",
      "(7, 'Actress -- Leading Role', 'Catalina Sandino Moreno', 'Maria Full of Grace', 'Maria', 0)\n",
      "(18, 'Actress -- Leading Role', 'Catalina Sandino Moreno', 'Maria Full of Grace', 'Maria', 0)\n",
      "(29, 'Actress -- Leading Role', 'Catalina Sandino Moreno', 'Maria Full of Grace', 'Maria', 0)\n",
      "(7, 'Actress -- Leading Role', 'Imelda Staunton', 'Vera Drake', 'Vera', 0)\n",
      "(18, 'Actress -- Leading Role', 'Imelda Staunton', 'Vera Drake', 'Vera', 0)\n",
      "(29, 'Actress -- Leading Role', 'Imelda Staunton', 'Vera Drake', 'Vera', 0)\n",
      "(7, 'Actress -- Leading Role', 'Hilary Swank', 'Million Dollar Baby', 'Maggie Fitzgerald', 1)\n",
      "(18, 'Actress -- Leading Role', 'Hilary Swank', 'Million Dollar Baby', 'Maggie Fitzgerald', 1)\n",
      "(29, 'Actress -- Leading Role', 'Hilary Swank', 'Million Dollar Baby', 'Maggie Fitzgerald', 1)\n",
      "(7, 'Actress -- Leading Role', 'Kate Winslet', 'Eternal Sunshine of the Spotless Mind', 'Clementine Kruczynski', 0)\n",
      "(18, 'Actress -- Leading Role', 'Kate Winslet', 'Eternal Sunshine of the Spotless Mind', 'Clementine Kruczynski', 0)\n",
      "(29, 'Actress -- Leading Role', 'Kate Winslet', 'Eternal Sunshine of the Spotless Mind', 'Clementine Kruczynski', 0)\n",
      "(7, 'Actress -- Supporting Role', 'Cate Blanchett', 'The Aviator', 'Katharine Hepburn', 1)\n",
      "(18, 'Actress -- Supporting Role', 'Cate Blanchett', 'The Aviator', 'Katharine Hepburn', 1)\n",
      "(29, 'Actress -- Supporting Role', 'Cate Blanchett', 'The Aviator', 'Katharine Hepburn', 1)\n",
      "(7, 'Actress -- Supporting Role', 'Laura Linney', 'Kinsey', 'Clara McMillen', 0)\n",
      "(18, 'Actress -- Supporting Role', 'Laura Linney', 'Kinsey', 'Clara McMillen', 0)\n",
      "(29, 'Actress -- Supporting Role', 'Laura Linney', 'Kinsey', 'Clara McMillen', 0)\n",
      "(7, 'Actress -- Supporting Role', 'Virginia Madsen', 'Sideways', 'Maya', 0)\n",
      "(18, 'Actress -- Supporting Role', 'Virginia Madsen', 'Sideways', 'Maya', 0)\n",
      "(29, 'Actress -- Supporting Role', 'Virginia Madsen', 'Sideways', 'Maya', 0)\n",
      "(7, 'Actress -- Supporting Role', 'Sophie Okonedo', 'Hotel Rwanda', 'Tatiana Rusesabagina', 0)\n",
      "(18, 'Actress -- Supporting Role', 'Sophie Okonedo', 'Hotel Rwanda', 'Tatiana Rusesabagina', 0)\n",
      "(29, 'Actress -- Supporting Role', 'Sophie Okonedo', 'Hotel Rwanda', 'Tatiana Rusesabagina', 0)\n",
      "(7, 'Actress -- Supporting Role', 'Natalie Portman', 'Closer', 'Alice', 0)\n",
      "(18, 'Actress -- Supporting Role', 'Natalie Portman', 'Closer', 'Alice', 0)\n",
      "(29, 'Actress -- Supporting Role', 'Natalie Portman', 'Closer', 'Alice', 0)\n",
      "(8, 'Actor -- Leading Role', 'Johnny Depp', 'Pirates of the Caribbean: The Curse of the Black Pearl', 'Jack Sparrow', 0)\n",
      "(19, 'Actor -- Leading Role', 'Johnny Depp', 'Pirates of the Caribbean: The Curse of the Black Pearl', 'Jack Sparrow', 0)\n",
      "(30, 'Actor -- Leading Role', 'Johnny Depp', 'Pirates of the Caribbean: The Curse of the Black Pearl', 'Jack Sparrow', 0)\n",
      "(8, 'Actor -- Leading Role', 'Ben Kingsley', 'House of Sand and Fog', 'Behrani', 0)\n",
      "(19, 'Actor -- Leading Role', 'Ben Kingsley', 'House of Sand and Fog', 'Behrani', 0)\n",
      "(30, 'Actor -- Leading Role', 'Ben Kingsley', 'House of Sand and Fog', 'Behrani', 0)\n",
      "(8, 'Actor -- Leading Role', 'Jude Law', 'Cold Mountain', 'Inman', 0)\n",
      "(19, 'Actor -- Leading Role', 'Jude Law', 'Cold Mountain', 'Inman', 0)\n",
      "(30, 'Actor -- Leading Role', 'Jude Law', 'Cold Mountain', 'Inman', 0)\n",
      "(8, 'Actor -- Leading Role', 'Bill Murray', 'Lost in Translation', 'Bob Harris', 0)\n",
      "(19, 'Actor -- Leading Role', 'Bill Murray', 'Lost in Translation', 'Bob Harris', 0)\n",
      "(30, 'Actor -- Leading Role', 'Bill Murray', 'Lost in Translation', 'Bob Harris', 0)\n",
      "(8, 'Actor -- Leading Role', 'Sean Penn', 'Mystic River', 'Jimmy Markum', 1)\n",
      "(19, 'Actor -- Leading Role', 'Sean Penn', 'Mystic River', 'Jimmy Markum', 1)\n",
      "(30, 'Actor -- Leading Role', 'Sean Penn', 'Mystic River', 'Jimmy Markum', 1)\n",
      "(8, 'Actor -- Supporting Role', 'Alec Baldwin', 'The Cooler', 'Shelly Kaplow', 0)\n",
      "(19, 'Actor -- Supporting Role', 'Alec Baldwin', 'The Cooler', 'Shelly Kaplow', 0)\n",
      "(30, 'Actor -- Supporting Role', 'Alec Baldwin', 'The Cooler', 'Shelly Kaplow', 0)\n",
      "(8, 'Actor -- Supporting Role', 'Benicio Del Toro', '21 Grams', 'Jack Jordan', 0)\n",
      "(19, 'Actor -- Supporting Role', 'Benicio Del Toro', '21 Grams', 'Jack Jordan', 0)\n",
      "(30, 'Actor -- Supporting Role', 'Benicio Del Toro', '21 Grams', 'Jack Jordan', 0)\n",
      "(8, 'Actor -- Supporting Role', 'Djimon Hounsou', 'In America', 'Mateo', 0)\n",
      "(19, 'Actor -- Supporting Role', 'Djimon Hounsou', 'In America', 'Mateo', 0)\n",
      "(30, 'Actor -- Supporting Role', 'Djimon Hounsou', 'In America', 'Mateo', 0)\n",
      "(8, 'Actor -- Supporting Role', 'Tim Robbins', 'Mystic River', 'Dave Boyle', 1)\n",
      "(19, 'Actor -- Supporting Role', 'Tim Robbins', 'Mystic River', 'Dave Boyle', 1)\n",
      "(30, 'Actor -- Supporting Role', 'Tim Robbins', 'Mystic River', 'Dave Boyle', 1)\n",
      "(8, 'Actor -- Supporting Role', 'Ken Watanabe', 'The Last Samurai', 'Katsumoto', 0)\n",
      "(19, 'Actor -- Supporting Role', 'Ken Watanabe', 'The Last Samurai', 'Katsumoto', 0)\n",
      "(30, 'Actor -- Supporting Role', 'Ken Watanabe', 'The Last Samurai', 'Katsumoto', 0)\n",
      "(8, 'Actress -- Leading Role', 'Keisha Castle-Hughes', 'Whale Rider', 'Paikea', 0)\n",
      "(19, 'Actress -- Leading Role', 'Keisha Castle-Hughes', 'Whale Rider', 'Paikea', 0)\n",
      "(30, 'Actress -- Leading Role', 'Keisha Castle-Hughes', 'Whale Rider', 'Paikea', 0)\n",
      "(8, 'Actress -- Leading Role', 'Diane Keaton', \"Something's Gotta Give\", 'Erica Barry', 0)\n",
      "(19, 'Actress -- Leading Role', 'Diane Keaton', \"Something's Gotta Give\", 'Erica Barry', 0)\n",
      "(30, 'Actress -- Leading Role', 'Diane Keaton', \"Something's Gotta Give\", 'Erica Barry', 0)\n",
      "(8, 'Actress -- Leading Role', 'Samantha Morton', 'In America', 'Sarah', 0)\n",
      "(19, 'Actress -- Leading Role', 'Samantha Morton', 'In America', 'Sarah', 0)\n",
      "(30, 'Actress -- Leading Role', 'Samantha Morton', 'In America', 'Sarah', 0)\n",
      "(8, 'Actress -- Leading Role', 'Charlize Theron', 'Monster', 'Aileen Wuornos', 1)\n",
      "(19, 'Actress -- Leading Role', 'Charlize Theron', 'Monster', 'Aileen Wuornos', 1)\n",
      "(30, 'Actress -- Leading Role', 'Charlize Theron', 'Monster', 'Aileen Wuornos', 1)\n",
      "(8, 'Actress -- Leading Role', 'Naomi Watts', '21 Grams', 'Cristina Peck', 0)\n",
      "(19, 'Actress -- Leading Role', 'Naomi Watts', '21 Grams', 'Cristina Peck', 0)\n",
      "(30, 'Actress -- Leading Role', 'Naomi Watts', '21 Grams', 'Cristina Peck', 0)\n",
      "(8, 'Actress -- Supporting Role', 'Shohreh Aghdashloo', 'House of Sand and Fog', 'Nadi', 0)\n",
      "(19, 'Actress -- Supporting Role', 'Shohreh Aghdashloo', 'House of Sand and Fog', 'Nadi', 0)\n",
      "(30, 'Actress -- Supporting Role', 'Shohreh Aghdashloo', 'House of Sand and Fog', 'Nadi', 0)\n",
      "(8, 'Actress -- Supporting Role', 'Patricia Clarkson', 'Pieces of April', 'Joy Burns', 0)\n",
      "(19, 'Actress -- Supporting Role', 'Patricia Clarkson', 'Pieces of April', 'Joy Burns', 0)\n",
      "(30, 'Actress -- Supporting Role', 'Patricia Clarkson', 'Pieces of April', 'Joy Burns', 0)\n",
      "(8, 'Actress -- Supporting Role', 'Marcia Gay Harden', 'Mystic River', 'Celeste Boyle', 0)\n",
      "(19, 'Actress -- Supporting Role', 'Marcia Gay Harden', 'Mystic River', 'Celeste Boyle', 0)\n",
      "(30, 'Actress -- Supporting Role', 'Marcia Gay Harden', 'Mystic River', 'Celeste Boyle', 0)\n",
      "(8, 'Actress -- Supporting Role', 'Holly Hunter', 'Thirteen', 'Melanie', 0)\n",
      "(19, 'Actress -- Supporting Role', 'Holly Hunter', 'Thirteen', 'Melanie', 0)\n",
      "(30, 'Actress -- Supporting Role', 'Holly Hunter', 'Thirteen', 'Melanie', 0)\n",
      "(8, 'Actress -- Supporting Role', 'Renée Zellweger', 'Cold Mountain', 'Ruby Thewes', 1)\n",
      "(19, 'Actress -- Supporting Role', 'Renée Zellweger', 'Cold Mountain', 'Ruby Thewes', 1)\n",
      "(30, 'Actress -- Supporting Role', 'Renée Zellweger', 'Cold Mountain', 'Ruby Thewes', 1)\n",
      "(9, 'Actor -- Leading Role', 'Adrien Brody', 'The Pianist', 'Wladyslaw Szpilman', 1)\n",
      "(20, 'Actor -- Leading Role', 'Adrien Brody', 'The Pianist', 'Wladyslaw Szpilman', 1)\n",
      "(31, 'Actor -- Leading Role', 'Adrien Brody', 'The Pianist', 'Wladyslaw Szpilman', 1)\n",
      "(9, 'Actor -- Leading Role', 'Nicolas Cage', 'Adaptation', 'Charlie Kaufman & Donald Kaufman', 0)\n",
      "(20, 'Actor -- Leading Role', 'Nicolas Cage', 'Adaptation', 'Charlie Kaufman & Donald Kaufman', 0)\n",
      "(31, 'Actor -- Leading Role', 'Nicolas Cage', 'Adaptation', 'Charlie Kaufman & Donald Kaufman', 0)\n",
      "(9, 'Actor -- Leading Role', 'Michael Caine', 'The Quiet American', 'Thomas Fowler', 0)\n",
      "(20, 'Actor -- Leading Role', 'Michael Caine', 'The Quiet American', 'Thomas Fowler', 0)\n",
      "(31, 'Actor -- Leading Role', 'Michael Caine', 'The Quiet American', 'Thomas Fowler', 0)\n",
      "(9, 'Actor -- Leading Role', 'Daniel Day-Lewis', 'Gangs of New York', \"Bill 'The Butcher' Cutting\", 0)\n",
      "(20, 'Actor -- Leading Role', 'Daniel Day-Lewis', 'Gangs of New York', \"Bill 'The Butcher' Cutting\", 0)\n",
      "(31, 'Actor -- Leading Role', 'Daniel Day-Lewis', 'Gangs of New York', \"Bill 'The Butcher' Cutting\", 0)\n",
      "(9, 'Actor -- Leading Role', 'Jack Nicholson', 'About Schmidt', 'Warren Schmidt', 0)\n",
      "(20, 'Actor -- Leading Role', 'Jack Nicholson', 'About Schmidt', 'Warren Schmidt', 0)\n",
      "(31, 'Actor -- Leading Role', 'Jack Nicholson', 'About Schmidt', 'Warren Schmidt', 0)\n",
      "(9, 'Actor -- Supporting Role', 'Chris Cooper', 'Adaptation', 'John Laroche', 1)\n",
      "(20, 'Actor -- Supporting Role', 'Chris Cooper', 'Adaptation', 'John Laroche', 1)\n",
      "(31, 'Actor -- Supporting Role', 'Chris Cooper', 'Adaptation', 'John Laroche', 1)\n",
      "(9, 'Actor -- Supporting Role', 'Ed Harris', 'The Hours', 'Richard Brown', 0)\n",
      "(20, 'Actor -- Supporting Role', 'Ed Harris', 'The Hours', 'Richard Brown', 0)\n",
      "(31, 'Actor -- Supporting Role', 'Ed Harris', 'The Hours', 'Richard Brown', 0)\n",
      "(9, 'Actor -- Supporting Role', 'Paul Newman', 'Road to Perdition', 'John Rooney', 0)\n",
      "(20, 'Actor -- Supporting Role', 'Paul Newman', 'Road to Perdition', 'John Rooney', 0)\n",
      "(31, 'Actor -- Supporting Role', 'Paul Newman', 'Road to Perdition', 'John Rooney', 0)\n",
      "(9, 'Actor -- Supporting Role', 'John C. Reilly', 'Chicago', 'Amos Hart', 0)\n",
      "(20, 'Actor -- Supporting Role', 'John C. Reilly', 'Chicago', 'Amos Hart', 0)\n",
      "(31, 'Actor -- Supporting Role', 'John C. Reilly', 'Chicago', 'Amos Hart', 0)\n",
      "(9, 'Actor -- Supporting Role', 'Christopher Walken', 'Catch Me If You Can', 'Frank Abagnale', 0)\n",
      "(20, 'Actor -- Supporting Role', 'Christopher Walken', 'Catch Me If You Can', 'Frank Abagnale', 0)\n",
      "(31, 'Actor -- Supporting Role', 'Christopher Walken', 'Catch Me If You Can', 'Frank Abagnale', 0)\n",
      "(9, 'Actress -- Leading Role', 'Salma Hayek', 'Frida', 'Frida Kahlo', 0)\n",
      "(20, 'Actress -- Leading Role', 'Salma Hayek', 'Frida', 'Frida Kahlo', 0)\n",
      "(31, 'Actress -- Leading Role', 'Salma Hayek', 'Frida', 'Frida Kahlo', 0)\n",
      "(9, 'Actress -- Leading Role', 'Nicole Kidman', 'The Hours', 'Virginia Woolf', 1)\n",
      "(20, 'Actress -- Leading Role', 'Nicole Kidman', 'The Hours', 'Virginia Woolf', 1)\n",
      "(31, 'Actress -- Leading Role', 'Nicole Kidman', 'The Hours', 'Virginia Woolf', 1)\n",
      "(9, 'Actress -- Leading Role', 'Diane Lane', 'Unfaithful', 'Connie Sumner', 0)\n",
      "(20, 'Actress -- Leading Role', 'Diane Lane', 'Unfaithful', 'Connie Sumner', 0)\n",
      "(31, 'Actress -- Leading Role', 'Diane Lane', 'Unfaithful', 'Connie Sumner', 0)\n",
      "(9, 'Actress -- Leading Role', 'Julianne Moore', 'Far from Heaven', 'Cathy Whitaker', 0)\n",
      "(20, 'Actress -- Leading Role', 'Julianne Moore', 'Far from Heaven', 'Cathy Whitaker', 0)\n",
      "(31, 'Actress -- Leading Role', 'Julianne Moore', 'Far from Heaven', 'Cathy Whitaker', 0)\n",
      "(9, 'Actress -- Leading Role', 'Renée Zellweger', 'Chicago', 'Roxie Hart', 0)\n",
      "(20, 'Actress -- Leading Role', 'Renée Zellweger', 'Chicago', 'Roxie Hart', 0)\n",
      "(31, 'Actress -- Leading Role', 'Renée Zellweger', 'Chicago', 'Roxie Hart', 0)\n",
      "(9, 'Actress -- Supporting Role', 'Kathy Bates', 'About Schmidt', 'Roberta Hertzel', 0)\n",
      "(20, 'Actress -- Supporting Role', 'Kathy Bates', 'About Schmidt', 'Roberta Hertzel', 0)\n",
      "(31, 'Actress -- Supporting Role', 'Kathy Bates', 'About Schmidt', 'Roberta Hertzel', 0)\n",
      "(9, 'Actress -- Supporting Role', 'Julianne Moore', 'The Hours', 'Laura Brown', 0)\n",
      "(20, 'Actress -- Supporting Role', 'Julianne Moore', 'The Hours', 'Laura Brown', 0)\n",
      "(31, 'Actress -- Supporting Role', 'Julianne Moore', 'The Hours', 'Laura Brown', 0)\n",
      "(9, 'Actress -- Supporting Role', 'Queen Latifah', 'Chicago', 'Matron Mama Morton', 0)\n",
      "(20, 'Actress -- Supporting Role', 'Queen Latifah', 'Chicago', 'Matron Mama Morton', 0)\n",
      "(31, 'Actress -- Supporting Role', 'Queen Latifah', 'Chicago', 'Matron Mama Morton', 0)\n",
      "(9, 'Actress -- Supporting Role', 'Meryl Streep', 'Adaptation', 'Susan Orlean', 0)\n",
      "(20, 'Actress -- Supporting Role', 'Meryl Streep', 'Adaptation', 'Susan Orlean', 0)\n",
      "(31, 'Actress -- Supporting Role', 'Meryl Streep', 'Adaptation', 'Susan Orlean', 0)\n",
      "(9, 'Actress -- Supporting Role', 'Catherine Zeta-Jones', 'Chicago', 'Velma Kelly', 1)\n",
      "(20, 'Actress -- Supporting Role', 'Catherine Zeta-Jones', 'Chicago', 'Velma Kelly', 1)\n",
      "(31, 'Actress -- Supporting Role', 'Catherine Zeta-Jones', 'Chicago', 'Velma Kelly', 1)\n",
      "(10, 'Actor -- Leading Role', 'Russell Crowe', 'A Beautiful Mind', 'John Nash', 0)\n",
      "(21, 'Actor -- Leading Role', 'Russell Crowe', 'A Beautiful Mind', 'John Nash', 0)\n",
      "(32, 'Actor -- Leading Role', 'Russell Crowe', 'A Beautiful Mind', 'John Nash', 0)\n",
      "(10, 'Actor -- Leading Role', 'Sean Penn', 'I Am Sam', 'Sam Dawson', 0)\n",
      "(21, 'Actor -- Leading Role', 'Sean Penn', 'I Am Sam', 'Sam Dawson', 0)\n",
      "(32, 'Actor -- Leading Role', 'Sean Penn', 'I Am Sam', 'Sam Dawson', 0)\n",
      "(10, 'Actor -- Leading Role', 'Will Smith', 'Ali', 'Muhammad Ali', 0)\n",
      "(21, 'Actor -- Leading Role', 'Will Smith', 'Ali', 'Muhammad Ali', 0)\n",
      "(32, 'Actor -- Leading Role', 'Will Smith', 'Ali', 'Muhammad Ali', 0)\n",
      "(10, 'Actor -- Leading Role', 'Denzel Washington', 'Training Day', 'Alonzo', 1)\n",
      "(21, 'Actor -- Leading Role', 'Denzel Washington', 'Training Day', 'Alonzo', 1)\n",
      "(32, 'Actor -- Leading Role', 'Denzel Washington', 'Training Day', 'Alonzo', 1)\n",
      "(10, 'Actor -- Leading Role', 'Tom Wilkinson', 'In the Bedroom', 'Matt Fowler', 0)\n",
      "(21, 'Actor -- Leading Role', 'Tom Wilkinson', 'In the Bedroom', 'Matt Fowler', 0)\n",
      "(32, 'Actor -- Leading Role', 'Tom Wilkinson', 'In the Bedroom', 'Matt Fowler', 0)\n",
      "(10, 'Actor -- Supporting Role', 'Jim Broadbent', 'Iris', 'John Bayley', 1)\n",
      "(21, 'Actor -- Supporting Role', 'Jim Broadbent', 'Iris', 'John Bayley', 1)\n",
      "(32, 'Actor -- Supporting Role', 'Jim Broadbent', 'Iris', 'John Bayley', 1)\n",
      "(10, 'Actor -- Supporting Role', 'Ethan Hawke', 'Training Day', 'Jake', 0)\n",
      "(21, 'Actor -- Supporting Role', 'Ethan Hawke', 'Training Day', 'Jake', 0)\n",
      "(32, 'Actor -- Supporting Role', 'Ethan Hawke', 'Training Day', 'Jake', 0)\n",
      "(10, 'Actor -- Supporting Role', 'Ben Kingsley', 'Sexy Beast', 'Don Logan', 0)\n",
      "(21, 'Actor -- Supporting Role', 'Ben Kingsley', 'Sexy Beast', 'Don Logan', 0)\n",
      "(32, 'Actor -- Supporting Role', 'Ben Kingsley', 'Sexy Beast', 'Don Logan', 0)\n",
      "(10, 'Actor -- Supporting Role', 'Ian McKellen', 'The Lord of the Rings: The Fellowship of the Ring', 'Gandalf', 0)\n",
      "(21, 'Actor -- Supporting Role', 'Ian McKellen', 'The Lord of the Rings: The Fellowship of the Ring', 'Gandalf', 0)\n",
      "(32, 'Actor -- Supporting Role', 'Ian McKellen', 'The Lord of the Rings: The Fellowship of the Ring', 'Gandalf', 0)\n",
      "(10, 'Actor -- Supporting Role', 'Jon Voight', 'Ali', 'Howard Cosell', 0)\n",
      "(21, 'Actor -- Supporting Role', 'Jon Voight', 'Ali', 'Howard Cosell', 0)\n",
      "(32, 'Actor -- Supporting Role', 'Jon Voight', 'Ali', 'Howard Cosell', 0)\n",
      "(10, 'Actress -- Leading Role', 'Halle Berry', \"Monster's Ball\", 'Leticia Musgrove', 1)\n",
      "(21, 'Actress -- Leading Role', 'Halle Berry', \"Monster's Ball\", 'Leticia Musgrove', 1)\n",
      "(32, 'Actress -- Leading Role', 'Halle Berry', \"Monster's Ball\", 'Leticia Musgrove', 1)\n",
      "(10, 'Actress -- Leading Role', 'Judi Dench', 'Iris', 'Iris Murdoch', 0)\n",
      "(21, 'Actress -- Leading Role', 'Judi Dench', 'Iris', 'Iris Murdoch', 0)\n",
      "(32, 'Actress -- Leading Role', 'Judi Dench', 'Iris', 'Iris Murdoch', 0)\n",
      "(10, 'Actress -- Leading Role', 'Nicole Kidman', 'Moulin Rouge', 'Satine', 0)\n",
      "(21, 'Actress -- Leading Role', 'Nicole Kidman', 'Moulin Rouge', 'Satine', 0)\n",
      "(32, 'Actress -- Leading Role', 'Nicole Kidman', 'Moulin Rouge', 'Satine', 0)\n",
      "(10, 'Actress -- Leading Role', 'Sissy Spacek', 'In the Bedroom', 'Ruth Fowler', 0)\n",
      "(21, 'Actress -- Leading Role', 'Sissy Spacek', 'In the Bedroom', 'Ruth Fowler', 0)\n",
      "(32, 'Actress -- Leading Role', 'Sissy Spacek', 'In the Bedroom', 'Ruth Fowler', 0)\n",
      "(10, 'Actress -- Leading Role', 'Renée Zellweger', \"Bridget Jones's Diary\", 'Bridget Jones', 0)\n",
      "(21, 'Actress -- Leading Role', 'Renée Zellweger', \"Bridget Jones's Diary\", 'Bridget Jones', 0)\n",
      "(32, 'Actress -- Leading Role', 'Renée Zellweger', \"Bridget Jones's Diary\", 'Bridget Jones', 0)\n",
      "(10, 'Actress -- Supporting Role', 'Jennifer Connelly', 'A Beautiful Mind', 'Alicia Nash', 1)\n",
      "(21, 'Actress -- Supporting Role', 'Jennifer Connelly', 'A Beautiful Mind', 'Alicia Nash', 1)\n",
      "(32, 'Actress -- Supporting Role', 'Jennifer Connelly', 'A Beautiful Mind', 'Alicia Nash', 1)\n",
      "(10, 'Actress -- Supporting Role', 'Helen Mirren', 'Gosford Park', 'Mrs. Wilson', 0)\n",
      "(21, 'Actress -- Supporting Role', 'Helen Mirren', 'Gosford Park', 'Mrs. Wilson', 0)\n",
      "(32, 'Actress -- Supporting Role', 'Helen Mirren', 'Gosford Park', 'Mrs. Wilson', 0)\n",
      "(10, 'Actress -- Supporting Role', 'Maggie Smith', 'Gosford Park', 'Constance, Countess of Trentham', 0)\n",
      "(21, 'Actress -- Supporting Role', 'Maggie Smith', 'Gosford Park', 'Constance, Countess of Trentham', 0)\n",
      "(32, 'Actress -- Supporting Role', 'Maggie Smith', 'Gosford Park', 'Constance, Countess of Trentham', 0)\n",
      "(10, 'Actress -- Supporting Role', 'Marisa Tomei', 'In the Bedroom', 'Natalie Strout', 0)\n",
      "(21, 'Actress -- Supporting Role', 'Marisa Tomei', 'In the Bedroom', 'Natalie Strout', 0)\n",
      "(32, 'Actress -- Supporting Role', 'Marisa Tomei', 'In the Bedroom', 'Natalie Strout', 0)\n",
      "(10, 'Actress -- Supporting Role', 'Kate Winslet', 'Iris', 'Young Iris Murdoch', 0)\n",
      "(21, 'Actress -- Supporting Role', 'Kate Winslet', 'Iris', 'Young Iris Murdoch', 0)\n",
      "(32, 'Actress -- Supporting Role', 'Kate Winslet', 'Iris', 'Young Iris Murdoch', 0)\n"
     ]
    }
   ],
   "source": [
    "joined_nominations = conn.execute(nom_query).fetchall()\n",
    "for row in joined_nominations:\n",
    "    print(row)"
   ]
  },
  {
   "cell_type": "code",
   "execution_count": 27,
   "metadata": {
    "collapsed": true
   },
   "outputs": [],
   "source": [
    "insert_nominations_two = '''insert into nominations_two_new1 (ceremony_id, category, nominee, movie, character, won) \n",
    "values (?,?,?,?,?,?);\n",
    "'''"
   ]
  },
  {
   "cell_type": "code",
   "execution_count": 28,
   "metadata": {
    "collapsed": false
   },
   "outputs": [
    {
     "data": {
      "text/plain": [
       "<sqlite3.Cursor at 0x7fa7ac6c1810>"
      ]
     },
     "execution_count": 28,
     "metadata": {},
     "output_type": "execute_result"
    }
   ],
   "source": [
    "conn.executemany(insert_nominations_two, joined_nominations)"
   ]
  },
  {
   "cell_type": "code",
   "execution_count": 31,
   "metadata": {
    "collapsed": false
   },
   "outputs": [
    {
     "name": "stdout",
     "output_type": "stream",
     "text": [
      "[(1, 'Actor -- Leading Role', 'Javier Bardem', 'Biutiful', 'Uxbal', None, 0, 1), (2, 'Actor -- Leading Role', 'Javier Bardem', 'Biutiful', 'Uxbal', None, 0, 12), (3, 'Actor -- Leading Role', 'Javier Bardem', 'Biutiful', 'Uxbal', None, 0, 23), (4, 'Actor -- Leading Role', 'Jeff Bridges', 'True Grit', 'Rooster Cogburn', None, 0, 1), (5, 'Actor -- Leading Role', 'Jeff Bridges', 'True Grit', 'Rooster Cogburn', None, 0, 12)]\n"
     ]
    }
   ],
   "source": [
    "print(conn.execute(\"select * from nominations_two_new1 limit 5;\").fetchall())"
   ]
  },
  {
   "cell_type": "markdown",
   "metadata": {},
   "source": [
    "## Deleting and Renaming Table"
   ]
  },
  {
   "cell_type": "code",
   "execution_count": 32,
   "metadata": {
    "collapsed": false
   },
   "outputs": [
    {
     "data": {
      "text/plain": [
       "<sqlite3.Cursor at 0x7fa7ac6c1f80>"
      ]
     },
     "execution_count": 32,
     "metadata": {},
     "output_type": "execute_result"
    }
   ],
   "source": [
    "drop_query = \"drop table nominations\"\n",
    "conn.execute(drop_query)"
   ]
  },
  {
   "cell_type": "code",
   "execution_count": 34,
   "metadata": {
    "collapsed": false
   },
   "outputs": [
    {
     "data": {
      "text/plain": [
       "<sqlite3.Cursor at 0x7fa7ac64e030>"
      ]
     },
     "execution_count": 34,
     "metadata": {},
     "output_type": "execute_result"
    }
   ],
   "source": [
    "alter_query = \"alter table [nominations_two_new1] rename to [nominations]\"\n",
    "conn.execute(alter_query)"
   ]
  },
  {
   "cell_type": "markdown",
   "metadata": {},
   "source": [
    "## Creating a Join Table"
   ]
  },
  {
   "cell_type": "code",
   "execution_count": 35,
   "metadata": {
    "collapsed": false
   },
   "outputs": [
    {
     "data": {
      "text/plain": [
       "<sqlite3.Cursor at 0x7fa7ac64e260>"
      ]
     },
     "execution_count": 35,
     "metadata": {},
     "output_type": "execute_result"
    }
   ],
   "source": [
    "movies_query = \"create table movies(id integer primary key, movie text)\"\n",
    "conn.execute(movies_query)"
   ]
  },
  {
   "cell_type": "code",
   "execution_count": 36,
   "metadata": {
    "collapsed": false
   },
   "outputs": [
    {
     "data": {
      "text/plain": [
       "<sqlite3.Cursor at 0x7fa7ac64e0a0>"
      ]
     },
     "execution_count": 36,
     "metadata": {},
     "output_type": "execute_result"
    }
   ],
   "source": [
    "actors_query = \"create table actors (id integer primary key, actor text)\"\n",
    "conn.execute(actors_query)"
   ]
  },
  {
   "cell_type": "code",
   "execution_count": 38,
   "metadata": {
    "collapsed": false
   },
   "outputs": [
    {
     "data": {
      "text/plain": [
       "<sqlite3.Cursor at 0x7fa7ac64e340>"
      ]
     },
     "execution_count": 38,
     "metadata": {},
     "output_type": "execute_result"
    }
   ],
   "source": [
    "movie_actors_query = \"create table movie_actors (id integer primary key, movie_id integer references movies(id), actor_id integer references actors(id));\"\n",
    "conn.execute(movie_actors_query)"
   ]
  },
  {
   "cell_type": "code",
   "execution_count": 39,
   "metadata": {
    "collapsed": false
   },
   "outputs": [
    {
     "name": "stdout",
     "output_type": "stream",
     "text": [
      "[]\n"
     ]
    }
   ],
   "source": [
    "print(conn.execute(\"select * from movie_actors limit 5\").fetchall())"
   ]
  },
  {
   "cell_type": "markdown",
   "metadata": {},
   "source": [
    "## Populating Movie & Actor Tables"
   ]
  },
  {
   "cell_type": "code",
   "execution_count": 41,
   "metadata": {
    "collapsed": false
   },
   "outputs": [
    {
     "data": {
      "text/plain": [
       "<sqlite3.Cursor at 0x7fa7ac64e420>"
      ]
     },
     "execution_count": 41,
     "metadata": {},
     "output_type": "execute_result"
    }
   ],
   "source": [
    "movie_insert = \"insert into movies (movie) select distinct movie from nominations;\"\n",
    "actor_insert = \"insert into actors (actor) select distinct nominee from nominations;\"\n",
    "\n",
    "conn.execute(movie_insert)\n",
    "conn.execute(actor_insert)"
   ]
  },
  {
   "cell_type": "code",
   "execution_count": 42,
   "metadata": {
    "collapsed": false
   },
   "outputs": [
    {
     "name": "stdout",
     "output_type": "stream",
     "text": [
      "[(1, 'Biutiful'), (2, 'True Grit'), (3, 'The Social Network'), (4, \"The King's Speech\"), (5, '127 Hours')]\n",
      "[(1, 'Javier Bardem'), (2, 'Jeff Bridges'), (3, 'Jesse Eisenberg'), (4, 'Colin Firth'), (5, 'James Franco')]\n"
     ]
    }
   ],
   "source": [
    "print(conn.execute(\"select * from movies limit 5\").fetchall())\n",
    "print(conn.execute(\"select * from actors limit 5\").fetchall())"
   ]
  },
  {
   "cell_type": "markdown",
   "metadata": {},
   "source": [
    "## Populating Join Table"
   ]
  },
  {
   "cell_type": "code",
   "execution_count": 43,
   "metadata": {
    "collapsed": true
   },
   "outputs": [],
   "source": [
    "pairs_query = \"select movie,nominee from nominations;\"\n",
    "movie_actors_pairs = conn.execute(pairs_query).fetchall()"
   ]
  },
  {
   "cell_type": "code",
   "execution_count": 46,
   "metadata": {
    "collapsed": true
   },
   "outputs": [],
   "source": [
    "movies_actors_insert = '''\n",
    "insert into movie_actors (movie_id, actor_id) \n",
    "values ((select id from movies where movie == ?), \n",
    "(select id from actors where actor == ?));\n",
    "'''"
   ]
  },
  {
   "cell_type": "code",
   "execution_count": 47,
   "metadata": {
    "collapsed": false
   },
   "outputs": [
    {
     "data": {
      "text/plain": [
       "<sqlite3.Cursor at 0x7fa7ac64e960>"
      ]
     },
     "execution_count": 47,
     "metadata": {},
     "output_type": "execute_result"
    }
   ],
   "source": [
    "conn.executemany(movies_actors_insert, movie_actors_pairs)"
   ]
  },
  {
   "cell_type": "code",
   "execution_count": 49,
   "metadata": {
    "collapsed": false
   },
   "outputs": [
    {
     "name": "stdout",
     "output_type": "stream",
     "text": [
      "[(1, 1, 1), (2, 1, 1), (3, 1, 1), (4, 2, 2), (5, 2, 2)]\n"
     ]
    }
   ],
   "source": [
    "print(conn.execute(\"select * from movie_actors limit 5\").fetchall())"
   ]
  },
  {
   "cell_type": "code",
   "execution_count": null,
   "metadata": {
    "collapsed": true
   },
   "outputs": [],
   "source": []
  }
 ],
 "metadata": {
  "kernelspec": {
   "display_name": "Python 3",
   "language": "python",
   "name": "python3"
  },
  "language_info": {
   "codemirror_mode": {
    "name": "ipython",
    "version": 3
   },
   "file_extension": ".py",
   "mimetype": "text/x-python",
   "name": "python",
   "nbconvert_exporter": "python",
   "pygments_lexer": "ipython3",
   "version": "3.4.3"
  }
 },
 "nbformat": 4,
 "nbformat_minor": 0
}
